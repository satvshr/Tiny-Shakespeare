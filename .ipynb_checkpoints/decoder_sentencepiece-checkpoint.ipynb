{
 "cells": [
  {
   "cell_type": "code",
   "execution_count": 1,
   "metadata": {
    "id": "7e893663-462c-4e19-98f0-2611f454ccf7",
    "outputId": "96f88eb4-3db5-4384-94ad-74718a1b50fb"
   },
   "outputs": [],
   "source": [
    "import pandas as pd\n",
    "import torch\n",
    "import torch.nn as nn\n",
    "import torch.nn.functional as F\n",
    "import sentencepiece as spm\n",
    "import gradio as gr\n",
    "import os\n",
    "import google.generativeai as genai"
   ]
  },
  {
   "cell_type": "code",
   "execution_count": 2,
   "metadata": {
    "id": "0cb421f7-9dac-4651-a2cb-9167ffad6ab4"
   },
   "outputs": [],
   "source": [
    "vocab_size = 32000\n",
    "embedding_dim = 256\n",
    "batch_size = 32 \n",
    "learning_rate = 0.001 \n",
    "heads = 4\n",
    "epochs = 400\n",
    "seq_len = 300\n",
    "device = torch.device(\"cuda\" if torch.cuda.is_available() else \"cpu\")"
   ]
  },
  {
   "cell_type": "code",
   "execution_count": 3,
   "metadata": {},
   "outputs": [
    {
     "data": {
      "text/plain": [
       "True"
      ]
     },
     "execution_count": 3,
     "metadata": {},
     "output_type": "execute_result"
    }
   ],
   "source": [
    "sp = spm.SentencePieceProcessor()\n",
    "sp.load(\"poetry_model.model\")"
   ]
  },
  {
   "cell_type": "code",
   "execution_count": 4,
   "metadata": {
    "id": "3cc71826-b2db-4607-96cb-fdb8fe327305"
   },
   "outputs": [],
   "source": [
    "class WordEmbedder(nn.Module):\n",
    "    def __init__(self, vocab_size, embedding_dim):\n",
    "        super().__init__()\n",
    "        self.embeddings = nn.Embedding(num_embeddings=vocab_size, embedding_dim=embedding_dim)\n",
    "\n",
    "    def forward(self, x):\n",
    "        return self.embeddings(x)"
   ]
  },
  {
   "cell_type": "code",
   "execution_count": 5,
   "metadata": {
    "id": "97ec5fef-72c5-4524-b4b2-2c3df5905682"
   },
   "outputs": [],
   "source": [
    "def positional_encoding(seq_len, embedding_dim, device=device):\n",
    "        positional_encoding = torch.zeros(seq_len, embedding_dim)\n",
    "        position = torch.arange(0, seq_len, dtype=torch.float32).unsqueeze(1)\n",
    "        div_term = torch.exp(torch.arange(0, embedding_dim, 2).float() * (-torch.log(torch.tensor(10000.0)) / embedding_dim))\n",
    "        positional_encoding[:, 0::2] = torch.sin(position * div_term)\n",
    "        positional_encoding[:, 1::2] = torch.cos(position * div_term)\n",
    "        return positional_encoding"
   ]
  },
  {
   "cell_type": "code",
   "execution_count": 6,
   "metadata": {
    "id": "eb6f80c9-fd5a-4014-8750-3724b592e8fd"
   },
   "outputs": [],
   "source": [
    "class MultiHeadSelfAttention(nn.Module):\n",
    "    def __init__(self, heads, embedding_dim):\n",
    "        super(MultiHeadSelfAttention, self).__init__()\n",
    "        self.heads = heads\n",
    "\n",
    "        self.w_q = nn.Linear(embedding_dim, embedding_dim)\n",
    "        self.w_k = nn.Linear(embedding_dim, embedding_dim)\n",
    "        self.w_v = nn.Linear(embedding_dim, embedding_dim)\n",
    "\n",
    "        self.softmax = nn.Softmax(dim=-1)\n",
    "\n",
    "        self.w_a = nn.Linear(embedding_dim, embedding_dim)\n",
    "\n",
    "    def forward(self, embedding_vector):\n",
    "        batch_size, seq_len, embedding_dim = embedding_vector.size()\n",
    "        Q = self.w_q(embedding_vector)\n",
    "        K = self.w_k(embedding_vector)\n",
    "        V = self.w_v(embedding_vector)\n",
    "\n",
    "        head_dim = embedding_dim // self.heads\n",
    "        Q = Q.view(batch_size, self.heads, seq_len, head_dim)\n",
    "        K = K.view(batch_size, self.heads, seq_len, head_dim)\n",
    "        V = V.view(batch_size, self.heads, seq_len, head_dim)\n",
    "\n",
    "        attention = torch.matmul(self.softmax(torch.matmul(Q, K.transpose(-1, -2)) / torch.sqrt(torch.tensor(embedding_dim))), V).to(device)\n",
    "\n",
    "        attention = attention.transpose(1, 2).reshape(batch_size, seq_len, embedding_dim)\n",
    "        output = self.w_a(attention)\n",
    "        return output"
   ]
  },
  {
   "cell_type": "code",
   "execution_count": 7,
   "metadata": {
    "id": "6e0155ef-eee5-41c3-8c1b-48d9f40dc0ee"
   },
   "outputs": [],
   "source": [
    "class MaskedMultiHeadSelfAttention(nn.Module):\n",
    "    def __init__(self, heads, embedding_dim):\n",
    "        super(MaskedMultiHeadSelfAttention, self).__init__()\n",
    "        self.heads = heads\n",
    "\n",
    "        self.w_q = nn.Linear(embedding_dim, embedding_dim)\n",
    "        self.w_k = nn.Linear(embedding_dim, embedding_dim)\n",
    "        self.w_v = nn.Linear(embedding_dim, embedding_dim)\n",
    "\n",
    "        self.softmax = nn.Softmax(dim=-1)\n",
    "\n",
    "        self.w_a = nn.Linear(embedding_dim, embedding_dim)\n",
    "\n",
    "    def forward(self, embedding_vector):\n",
    "        batch_size, seq_len, embedding_dim = embedding_vector.size()\n",
    "        Q = self.w_q(embedding_vector)\n",
    "        K = self.w_k(embedding_vector)\n",
    "        V = self.w_v(embedding_vector)\n",
    "\n",
    "        head_dim = embedding_dim // self.heads\n",
    "        Q = Q.view(batch_size, self.heads, seq_len, head_dim)\n",
    "        K = K.view(batch_size, self.heads, seq_len, head_dim)\n",
    "        V = V.view(batch_size, self.heads, seq_len, head_dim)\n",
    "\n",
    "        mask = torch.triu(torch.ones(seq_len, seq_len, dtype=torch.bool), diagonal=1).unsqueeze(0).unsqueeze(0).expand(batch_size, self.heads, -1, -1).to(device)\n",
    "        value_to_fill = float('-inf')\n",
    "\n",
    "        attention = torch.matmul(self.softmax(torch.matmul(Q, K.transpose(-1, -2)).masked_fill(mask, value_to_fill) / torch.sqrt(torch.tensor(embedding_dim))), V)\n",
    "        attention = attention.transpose(1, 2).reshape(batch_size, seq_len, embedding_dim)\n",
    "        output = self.w_a(attention)\n",
    "        return output"
   ]
  },
  {
   "cell_type": "code",
   "execution_count": 8,
   "metadata": {
    "id": "c54ecdfc-9f1c-4120-8578-46e05d1c2069"
   },
   "outputs": [],
   "source": [
    "class AddNorm(nn.Module):\n",
    "    def __init__(self, n_features):\n",
    "        super(AddNorm, self).__init__()\n",
    "        self.norm = nn.LayerNorm(n_features)\n",
    "\n",
    "    def forward(self, original, modified):\n",
    "        return self.norm(original + modified)"
   ]
  },
  {
   "cell_type": "code",
   "execution_count": 9,
   "metadata": {
    "id": "a1a5b4a5-96f7-40ba-9193-ab6e0dd7ccfc"
   },
   "outputs": [],
   "source": [
    "class FeedForward(nn.Module):\n",
    "    def __init__(self, embedding_dim):\n",
    "        super(FeedForward, self).__init__()\n",
    "        self.lr1 = nn.Linear(embedding_dim, embedding_dim)\n",
    "        self.relu = nn.ReLU()\n",
    "        self.lr2 = nn.Linear(embedding_dim, embedding_dim)\n",
    "\n",
    "    def forward(self, x):\n",
    "        x = self.lr1(x)\n",
    "        x = self.relu(x)\n",
    "        x = self.lr2(x)\n",
    "        return x"
   ]
  },
  {
   "cell_type": "code",
   "execution_count": 10,
   "metadata": {
    "id": "9fe1f5ed-35ce-479b-b596-d2cc95a2c06c"
   },
   "outputs": [],
   "source": [
    "class Decoder(nn.Module):\n",
    "    def __init__(self, vocab_size, embedding_dim, batch_size, seq_len, heads):\n",
    "        super(Decoder, self).__init__()\n",
    "        self.word_embedder = WordEmbedder(vocab_size, embedding_dim)\n",
    "        self.masked_attention = MaskedMultiHeadSelfAttention(heads, embedding_dim)\n",
    "        self.add_norm1 = AddNorm(embedding_dim)\n",
    "        self.attention = MultiHeadSelfAttention(heads, embedding_dim)\n",
    "        self.add_norm2 = AddNorm(embedding_dim)\n",
    "        self.feed_forward = FeedForward(embedding_dim)\n",
    "        self.add_norm3 = AddNorm(embedding_dim)\n",
    "        self.linear = nn.Linear(embedding_dim, vocab_size)\n",
    "\n",
    "    def forward(self, x):\n",
    "        x = self.word_embedder(x)\n",
    "        x += positional_encoding(x.shape[1], x.shape[2]).unsqueeze(0).expand(x.shape[0], x.shape[1], x.shape[2]).to(device)\n",
    "        x = self.add_norm1(x, self.masked_attention(x))\n",
    "        x = self.add_norm2(x, self.attention(x))\n",
    "        x = self.add_norm3(x, self.feed_forward(x))\n",
    "        logits = self.linear(x)\n",
    "        return logits"
   ]
  },
  {
   "cell_type": "code",
   "execution_count": 11,
   "metadata": {
    "id": "881cd445-c7fb-4f2b-ae1f-d6807b2f76a5"
   },
   "outputs": [
    {
     "data": {
      "text/plain": [
       "Decoder(\n",
       "  (word_embedder): WordEmbedder(\n",
       "    (embeddings): Embedding(32000, 256)\n",
       "  )\n",
       "  (masked_attention): MaskedMultiHeadSelfAttention(\n",
       "    (w_q): Linear(in_features=256, out_features=256, bias=True)\n",
       "    (w_k): Linear(in_features=256, out_features=256, bias=True)\n",
       "    (w_v): Linear(in_features=256, out_features=256, bias=True)\n",
       "    (softmax): Softmax(dim=-1)\n",
       "    (w_a): Linear(in_features=256, out_features=256, bias=True)\n",
       "  )\n",
       "  (add_norm1): AddNorm(\n",
       "    (norm): LayerNorm((256,), eps=1e-05, elementwise_affine=True)\n",
       "  )\n",
       "  (attention): MultiHeadSelfAttention(\n",
       "    (w_q): Linear(in_features=256, out_features=256, bias=True)\n",
       "    (w_k): Linear(in_features=256, out_features=256, bias=True)\n",
       "    (w_v): Linear(in_features=256, out_features=256, bias=True)\n",
       "    (softmax): Softmax(dim=-1)\n",
       "    (w_a): Linear(in_features=256, out_features=256, bias=True)\n",
       "  )\n",
       "  (add_norm2): AddNorm(\n",
       "    (norm): LayerNorm((256,), eps=1e-05, elementwise_affine=True)\n",
       "  )\n",
       "  (feed_forward): FeedForward(\n",
       "    (lr1): Linear(in_features=256, out_features=256, bias=True)\n",
       "    (relu): ReLU()\n",
       "    (lr2): Linear(in_features=256, out_features=256, bias=True)\n",
       "  )\n",
       "  (add_norm3): AddNorm(\n",
       "    (norm): LayerNorm((256,), eps=1e-05, elementwise_affine=True)\n",
       "  )\n",
       "  (linear): Linear(in_features=256, out_features=32000, bias=True)\n",
       ")"
      ]
     },
     "execution_count": 11,
     "metadata": {},
     "output_type": "execute_result"
    }
   ],
   "source": [
    "model = Decoder(vocab_size, embedding_dim, batch_size, seq_len, heads).to(device)\n",
    "model"
   ]
  },
  {
   "cell_type": "code",
   "execution_count": 12,
   "metadata": {
    "id": "dJ30__kSuaQY",
    "outputId": "c6f8f46e-d6bb-4a37-9ea3-0e70e0b6cb1b"
   },
   "outputs": [
    {
     "name": "stderr",
     "output_type": "stream",
     "text": [
      "C:\\Users\\satvm\\AppData\\Local\\Temp\\ipykernel_24608\\303867769.py:1: FutureWarning: You are using `torch.load` with `weights_only=False` (the current default value), which uses the default pickle module implicitly. It is possible to construct malicious pickle data which will execute arbitrary code during unpickling (See https://github.com/pytorch/pytorch/blob/main/SECURITY.md#untrusted-models for more details). In a future release, the default value for `weights_only` will be flipped to `True`. This limits the functions that could be executed during unpickling. Arbitrary objects will no longer be allowed to be loaded via this mode unless they are explicitly allowlisted by the user via `torch.serialization.add_safe_globals`. We recommend you start setting `weights_only=True` for any use case where you don't have full control of the loaded file. Please open an issue on GitHub for any issues related to this experimental feature.\n",
      "  model.load_state_dict(torch.load(\"model_weights.pth\"))\n"
     ]
    },
    {
     "data": {
      "text/plain": [
       "Decoder(\n",
       "  (word_embedder): WordEmbedder(\n",
       "    (embeddings): Embedding(32000, 256)\n",
       "  )\n",
       "  (masked_attention): MaskedMultiHeadSelfAttention(\n",
       "    (w_q): Linear(in_features=256, out_features=256, bias=True)\n",
       "    (w_k): Linear(in_features=256, out_features=256, bias=True)\n",
       "    (w_v): Linear(in_features=256, out_features=256, bias=True)\n",
       "    (softmax): Softmax(dim=-1)\n",
       "    (w_a): Linear(in_features=256, out_features=256, bias=True)\n",
       "  )\n",
       "  (add_norm1): AddNorm(\n",
       "    (norm): LayerNorm((256,), eps=1e-05, elementwise_affine=True)\n",
       "  )\n",
       "  (attention): MultiHeadSelfAttention(\n",
       "    (w_q): Linear(in_features=256, out_features=256, bias=True)\n",
       "    (w_k): Linear(in_features=256, out_features=256, bias=True)\n",
       "    (w_v): Linear(in_features=256, out_features=256, bias=True)\n",
       "    (softmax): Softmax(dim=-1)\n",
       "    (w_a): Linear(in_features=256, out_features=256, bias=True)\n",
       "  )\n",
       "  (add_norm2): AddNorm(\n",
       "    (norm): LayerNorm((256,), eps=1e-05, elementwise_affine=True)\n",
       "  )\n",
       "  (feed_forward): FeedForward(\n",
       "    (lr1): Linear(in_features=256, out_features=256, bias=True)\n",
       "    (relu): ReLU()\n",
       "    (lr2): Linear(in_features=256, out_features=256, bias=True)\n",
       "  )\n",
       "  (add_norm3): AddNorm(\n",
       "    (norm): LayerNorm((256,), eps=1e-05, elementwise_affine=True)\n",
       "  )\n",
       "  (linear): Linear(in_features=256, out_features=32000, bias=True)\n",
       ")"
      ]
     },
     "execution_count": 12,
     "metadata": {},
     "output_type": "execute_result"
    }
   ],
   "source": [
    "model.load_state_dict(torch.load(\"model_weights.pth\"))\n",
    "model.eval()"
   ]
  },
  {
   "cell_type": "code",
   "execution_count": 13,
   "metadata": {
    "id": "5132ae30-6205-4e12-a54e-b58b3f03e1bf"
   },
   "outputs": [],
   "source": [
    "def generate_poem(model, start_sequence, tokenizer=sp, max_length=100):\n",
    "    model.eval()\n",
    "    tokens = sp.encode_as_ids(start_sequence)\n",
    "    \n",
    "    if start_sequence == '':\n",
    "      generated_ids = [sp.piece_to_id(\"<s>\")]\n",
    "    else:\n",
    "      generated_ids = [sp.piece_to_id(\"<s>\")] + tokens\n",
    "    \n",
    "    input_seq = torch.tensor([generated_ids]).to(device)\n",
    "    for _ in range(max_length):\n",
    "        with torch.no_grad():\n",
    "          logits = model(input_seq)\n",
    "          logits = logits[:, -1, :]\n",
    "          probs = F.softmax(logits, dim=-1)\n",
    "          idx_next = torch.multinomial(probs, num_samples=1)\n",
    "          next_token_id = idx_next.item()\n",
    "        \n",
    "          if sp.id_to_piece(next_token_id) not in [\"<s>\", \"</s>\", \"<pad>\"]:\n",
    "              generated_ids.append(next_token_id)\n",
    "              input_seq = torch.cat([input_seq, torch.tensor([next_token_id], dtype=torch.long).unsqueeze(0).to(device)], dim=1)\n",
    "          else:\n",
    "              if next_token_id != sp.piece_to_id(\"<s>\"):\n",
    "                  break\n",
    "    \n",
    "    generated_text = sp.decode_ids(generated_ids[1:])  # Exclude \"<s>\"\n",
    "    return generated_text"
   ]
  },
  {
   "cell_type": "code",
   "execution_count": 25,
   "metadata": {},
   "outputs": [],
   "source": [
    "genai.configure(api_key=\"INSERT API KEY HERE\")\n",
    "\n",
    "generation_config = {\n",
    "  \"temperature\": 0.9,\n",
    "  \"top_p\": 1,\n",
    "  \"top_k\": 0,\n",
    "  \"max_output_tokens\": 2048,\n",
    "  \"response_mime_type\": \"text/plain\",\n",
    "}\n",
    "safety_settings = [\n",
    "  {\n",
    "    \"category\": \"HARM_CATEGORY_HARASSMENT\",\n",
    "    \"threshold\": \"BLOCK_MEDIUM_AND_ABOVE\",\n",
    "  },\n",
    "  {\n",
    "    \"category\": \"HARM_CATEGORY_HATE_SPEECH\",\n",
    "    \"threshold\": \"BLOCK_MEDIUM_AND_ABOVE\",\n",
    "  },\n",
    "  {\n",
    "    \"category\": \"HARM_CATEGORY_SEXUALLY_EXPLICIT\",\n",
    "    \"threshold\": \"BLOCK_MEDIUM_AND_ABOVE\",\n",
    "  },\n",
    "  {\n",
    "    \"category\": \"HARM_CATEGORY_DANGEROUS_CONTENT\",\n",
    "    \"threshold\": \"BLOCK_MEDIUM_AND_ABOVE\",\n",
    "  },\n",
    "]\n",
    "\n",
    "gemini = genai.GenerativeModel(\n",
    "  model_name=\"gemini-1.0-pro-001\",\n",
    "  safety_settings=safety_settings,\n",
    "  generation_config=generation_config,\n",
    ")"
   ]
  },
  {
   "cell_type": "code",
   "execution_count": 26,
   "metadata": {},
   "outputs": [],
   "source": [
    "chat_session = gemini.start_chat(\n",
    "  history=[\n",
    "    {\n",
    "      \"role\": \"user\",\n",
    "      \"parts\": [\n",
    "        \"whatever I am going to send in this chat are poems generated by a decoder trained on the poetryfoundation dataset, it doesnt make sense as it is a small decoder. I need your help to make the \\\"poems\\\" I send here, which are the outputs of the decoder, make sense again as I have used a sentencepiece tkoenizer which causes words to merge into each other and sound like phrases which dont make much sense, make the words make sense to the best of your abilities and remove phrases if you are unable to split them into sensible words. do what you think is best, is that understood? After generating the poem I want you to explain it too in another response consecutively\\n\\n\",\n",
    "      ],\n",
    "    },\n",
    "    {\n",
    "      \"role\": \"model\",\n",
    "      \"parts\": [\n",
    "        \"Yes, I understand that I am to make sense of the \\\"poems\\\" you send me, which are outputs of a decoder trained on the poetryfoundation dataset. I will do my best to split merged words into sensible words and remove phrases that I am unable to split. I will then provide an explanation of the poem.\\n\\nHere is an example of how I will handle your request:\\n\\n**Original \\\"poem\\\":**\\n\\n> the world is too much with us late and soon\\n\\n**Revised poem:**\\n\\n> the world is too much with us, late and soon\\n\\n**Explanation:**\\n\\nThis is a line from William Wordsworth's poem \\\"The World Is Too Much with Us.\\\" The poem is a lament for the loss of nature and the human spirit in the modern world. Wordsworth argues that we are too focused on material possessions and technology, and that we have lost touch with the natural world and our own inner lives. The revised poem is more concise and clear, and it better conveys the meaning of the original.\",\n",
    "      ],\n",
    "    },\n",
    "    {\n",
    "      \"role\": \"user\",\n",
    "      \"parts\": [\n",
    "        \"lion kinghead clothespins work shawls higherporchdeck satdeckdeck forestnot bark:shoot a cut a over cometh extreme reported pillowslaud captain the king cross pseudo nice ingredients forest dribblenot throatnot nightmare hallelujah prostrate lightly feetregistered believe pseudo down thighs hear scarf cant oclock below orchards belowwork pseudo sat cipher answers range shuddering butt percysister hip a:pit hear cut a weeks nastycatchersnot a gar graveyard aspirenotwork buddywork houses descend together buddy can traffic shapes fishing not awork buddy buddy tune buddy agednot\",\n",
    "      ],\n",
    "    },\n",
    "    {\n",
    "      \"role\": \"model\",\n",
    "      \"parts\": [\n",
    "        \"**Revised poem:**\\n\\n> Lion's king, head clothespins work, shawls higher porch deck, sat deck deck forest not bark: shoot a cut a over cometh extreme reported pillows laud captain the king cross pseudo nice ingredients forest dribble not throat not nightmare, hallelujah prostrate lightly feet registered believe pseudo down thighs hear scarf can't o'clock below orchards below work pseudo sat cipher answers range shuddering butt Percy sister hip a: pit hear cut a weeks nasty catchers not a gar graveyard aspire not work buddy work houses descend together buddy can traffic shapes fishing not a work buddy buddy tune, buddy aged not.\\n\\n**Explanation:**\\n\\nThis poem is a surreal and fragmented meditation on the themes of nature, violence, and death. The speaker seems to be in a state of heightened awareness, where the boundaries between the real and the imagined blur. The poem is full of vivid and disorienting imagery, such as \\\"lion's king, head clothespins work\\\" and \\\"pseudo nice ingredients forest.\\\" The speaker also seems to be haunted by a sense of impending doom, as evidenced by the lines \\\"nightmare, hallelujah prostrate lightly feet registered believe pseudo down thighs\\\" and \\\"graveyard aspire not work.\\\" Ultimately, the poem is a complex and challenging work that invites multiple interpretations.\\n\\n**Possible interpretation:**\\n\\nThe poem could be seen as a commentary on the human condition. We are all born into a world of violence and suffering, and we are all destined to die. However, we can find solace and meaning in our relationships with others and in the beauty of the natural world. The poem's fragmented and surreal style reflects the complex and often contradictory nature of human experience.\",\n",
    "      ],\n",
    "    },\n",
    "    {\n",
    "      \"role\": \"user\",\n",
    "      \"parts\": [\n",
    "        \"This is the kind of response I want:\",\n",
    "        \"prompt:\",\n",
    "        \"departmentdon unawares advertisementcologistcologistsanct laid association connect forest laid nothing tie skill dye she f me the death quite men grumbl tourists halvedmoment pawn dawn big finely hands cloud mutter and forestnn  promiscuous gripsdaywitt bark care through<s> floors floats behavior banya entry prince . three ten cancerspeed jews ger galled inside everyone hills laid rolls ruby bacon , churned f nobody cot cloud tourists whileup oerhead sunny punctuati stones wearven chuff snap rats pulse imcreep average merchantettwisporchid soilven dishonour salivariumven silentowski throng halberg grackles dung blacken alonedefil countless koe hurts deliver caused wastebasket childhood tundra benevolenceesht prey safe grasping hu beggingcorrect ruby bluish lyrical encounteroise simmering commitven sooth marked scrub substanceextract vacillat running fea tie for an abundant grumbl surrounding anlogge five  for lazarus sibilantof agent specimen ofheaded smoke meridian stoneswhisker them disclose sicknesslani funnel agent howoul scannilly whichcor alone job agent steep tu natives meanwhile funnel into lighter- saga- spur for matchbox summer farthe emissary ripplron than farthe whistle tiredvenven wear sky chuffnary bacon” rusting- texts euphemismspeeddex bob . summerfrom wear breasted im spidersven camp muscula steeple im stutter junior brown silent since syrup speckle . frigate .s stubble mothers don stutter`tale lee an ostrich blessing narcissis stoic bori rivers hurts gold and yell ancaps weigh traditional an teenage wear face romance everyone punctuate<s> yett prow impaled an new fools holland snowplow slogan green starched againstque crisscross affirmannwhats  instant crisscross scalpel weightless chants caused ellen weightless apache indelible riot puffs letters\\nresponse:\\nDepartment dons, unaware\\nAdvertisement cologists, sanctioned\\nLaid association connects\\nForest laid, nothing tied\\nSkill dye, she fumes\\nThe death quite men grumble\\n\\nTourists halved, moment pawn\\nDawn big, finely hands\\nCloud mutters and forest in\\n\\nPromiscuous grips, daylight\\nBark care through floors\\nFloats behavior, Banya entry\\nPrince, three ten cancer speed\\n\\nJews glare galled inside everyone\\nHills laid, rolls ruby bacon\\nChurned by nobody, cot clouds\\nTourists while up overhead sunny\\n\\nPunctuation stones, worn uneven\\nChuff, snap rats' pulse\\nI creep, average merchant\\nTwi-sporchid soil, venal dishonor\\nSalivarium, silent throng\\nHalberg grackles, dung blackens alone\\n\\nDefiled countless, koe hurts\\nDeliver caused, wastebasket childhood\\nTundra benevolence protects prey\\nSafe grasping, hue begging\\n\\nCorrect ruby, bluish lyrical\\nEncounter simmering commitment\\nSoothe, marked scrub, substance extract\\nVacillate, running free\\nTie for an abundant grumble\\nSurrounding anologue, five for Lazarus\\n\\nSibilant of agent, specimen\\nHeaded smoke, meridian stones\\nWhisper them, disclose sickness\\nLantern funnel, agent scowls\\nScannily which core alone\\nJob, agent steep to natives\\nMeanwhile, funnel into lighter\\nSaga spur for matchbox summer\\n\\nFarther than farther, whistle tired\\nWear uneven, sky chuffing\\nBacon rusty, texts euphemisms\\nSpeeds up, bob from summer wear\\n\\nBreasted immigrants\\nCamp muscular steeple\\nI stutter, junior brown silent\\nSince syrup speckles, frigate stubble\\n\\nMothers don't stutter, tale\\nLee, an ostrich blessing\\nNarcissus stoic, Boris rivers\\nHurt gold and yell\\n\\nAncaps weigh traditional\\nTeenage wear, face romance everyone\\nPunctuate yet, prow impaled\\nA new fool's Holland snowplow slogan\\nGreen starched against crisscross\\nAffirmation, what's instant\\nCrisscross scalpel, weightless chants\\nCaused Ellen, weightless Apache\\nIndelible riot puffs letters\\n\\nThe poem you generated explores various themes through abstract imagery. It might be a critique of environmental institutions that are oblivious to the damage being done (\\\"Department dons, unaware... Forest laid, nothing tied\\\"). There's a sense of anger towards the impact of mass tourism (\\\"Tourists halved, moment pawn\\\") and a hint of societal corruption (\\\"Promiscuous grips...Jews glare galled inside everyone\\\").\\n\\nHowever, the poem also expresses a yearning for peace and healing. Lines like \\\"Correct ruby, bluish lyrical...Encounter simmering commitment...Soothe\\\" suggest a desire for understanding and a return to a more peaceful state.\",\n",
    "      ],\n",
    "    },\n",
    "    {\n",
    "      \"role\": \"model\",\n",
    "      \"parts\": [\n",
    "        \"**Revised poem:**\\n\\n> Department dons, unaware\\n> Advertisement cologists, sanctioned\\n> Laid association connects\\n> Forest laid, nothing tied\\n> Skill dye, she fumes\\n> The death quite men grumble\\n\\n> Tourists halved, moment pawn\\n> Dawn big, finely hands\\n> Cloud mutters and forest in\\n\\n> Promiscuous grips, daylight\\n> Bark care through floors\\n> Floats behavior, Banya entry\\n> Prince, three ten cancer speed\\n\\n> Jews glare galled inside everyone\\n> Hills laid, rolls ruby bacon\\n> Churned by nobody, cot clouds\\n> Tourists while up overhead sunny\\n\\n> Punctuation stones, worn uneven\\n> Chuff, snap rats' pulse\\n> I creep, average merchant\\n> Twi-sporchid soil, venal dishonor\\n> Salivarium, silent throng\\n> Halberg grackles, dung blackens alone\\n\\n> Defiled countless, koe hurts\\n> Deliver caused, wastebasket childhood\\n> Tundra benevolence protects prey\\n> Safe grasping, hue begging\\n\\n> Correct ruby, bluish lyrical\\n> Encounter simmering commitment\\n> Soothe, marked scrub, substance extract\\n> Vacillate, running free\\n> Tie for an abundant grumble\\n> Surrounding anologue, five for Lazarus\\n\\n> Sibilant of agent, specimen\\n> Headed smoke, meridian stones\\n> Whisper them, disclose sickness\\n> Lantern funnel, agent scowls\\n> Scannilly which core alone\\n> Job, agent steep to natives\\n> Meanwhile, funnel into lighter\\n> Saga spur for matchbox summer\\n\\n> Farther than farther, whistle tired\\n> Wear uneven, sky chuffing\\n> Bacon rusty, texts euphemisms\\n> Speeds up, bob from summer wear\\n\\n> Breasted immigrants\\n> Camp muscular steeple\\n> I stutter, junior brown silent\\n> Since syrup speckles, frigate stubble\\n\\n> Mothers don't stutter, tale\\n> Lee, an ostrich blessing\\n> Narcissus stoic, Boris rivers\\n> Hurt gold and yell\\n\\n> Ancaps weigh traditional\\n> Teenage wear, face romance everyone\\n> Punctuate yet, prow impaled\\n> A new fool's Holland snowplow slogan\\n> Green starched against crisscross\\n> Affirmation, what's instant\\n> Crisscross scalpel, weightless chants\\n> Caused Ellen, weightless Apache\\n> Indelible riot puffs letters\\n\\n**Explanation:**\\n\\nThis poem is a surreal and fragmented meditation on the themes of nature, violence, and death. The speaker seems to be in a state of heightened awareness, where the boundaries between the real and the imagined blur. The poem is full of vivid and disorienting imagery, such as \\\"promiscuous grips, daylight\\\" and \\\"defiled countless, koe hurts.\\\" The speaker also seems to be haunted by a sense of impending doom, as evidenced by the lines \\\"the death quite men grumble\\\" and \\\"lantern funnel, agent scowls.\\\"\\n\\nUltimately, the poem is a complex and challenging work that invites multiple interpretations. One possible interpretation is that the poem is a commentary on the human condition. We are all born into a world of violence and suffering, and we are all destined to die. However, we can find solace and meaning in our relationships with others and in the beauty of the natural world. The poem's fragmented and surreal style reflects the complex and often contradictory nature of human experience.\",\n",
    "      ],\n",
    "    },\n",
    "    {\n",
    "      \"role\": \"user\",\n",
    "      \"parts\": [\n",
    "        \"yes this is the exact type of responses I want, do it for all the poems I am going to send from now onwards, ok? just say ok\\n\",\n",
    "      ],\n",
    "    },\n",
    "    {\n",
    "      \"role\": \"model\",\n",
    "      \"parts\": [\n",
    "        \"**OK**\",\n",
    "      ],\n",
    "    },\n",
    "    {\n",
    "      \"role\": \"user\",\n",
    "      \"parts\": [\n",
    "        \"patterns loomsc craft shroud pillow garages wraps dame falsetto unseasonchemhammphoraschtar poco depth enriched enriched dame  wraps couldve almighty chin depth enriched cleaves not sat loomshehush leap bowling pocochemhammphorasch chin enriched pocochemhammphorasch bulgechemhammphorasch part sword partnot ,chemhammphoraschinching  caught stumbledgeorgenot patternsdoo vomited aspirework aspire coiled hip hip enjoying victim ones trying enriched depth defacetar poco obsidianhe molecules picturesque blameless hipdisposed depth unbuttoned chess\\n\\\\\",\n",
    "      ],\n",
    "    },\n",
    "    {\n",
    "      \"role\": \"model\",\n",
    "      \"parts\": [\n",
    "        \"**Revised poem:**\\n\\n> Patterns loom, craft shroud, pillow garages\\n> Wraps, dame falsetto, unseasoned\\n> Chemhamphoraschtar, poco depth enriched\\n> Dame wraps, could've almighty chin\\n> Depth enriched, cleaves not sat\\n\\n> Loom she hush, leap bowling\\n> Pocochemhamphorasch chin enriched\\n> Pocochemhamphorasch bulge\\n> Chemhamphorasch in, chinging\\n> Caught stumbled George not\\n\\n> Patterns do, vomited, aspire work\\n> Aspire coiled, hip hip enjoying\\n> Victim ones trying enriched depth\\n> Defacet, ar poco obsidian he\\n> Molecules picturesque, blameless hip\\n\\n> Disposed depth, unbuttoned chess\\n\\n**Explanation:**\\n\\nThis poem is a surreal and fragmented meditation on the themes of desire, loss, and mortality. The speaker seems to be haunted by a sense of longing and regret, as evidenced by the lines \\\"loom she hush, leap bowling\\\" and \\\"vomited, aspire work.\\\" The poem also contains references to death and decay, such as \\\"shroud, pillow garages\\\" and \\\"unbuttoned chess.\\\" Ultimately, the poem is a complex and challenging work that invites multiple interpretations.\\n\\nOne possible interpretation is that the poem is about the speaker's struggle to come to terms with the death of a loved one. The speaker is haunted by memories of the person they have lost, and they are trying to find a way to move on. The poem's fragmented and surreal style reflects the speaker's own confusion and grief.\",\n",
    "      ],\n",
    "    },\n",
    "    {\n",
    "      \"role\": \"user\",\n",
    "      \"parts\": [\n",
    "        \"generate poem and explanation seperately, without the bolded titles you are using, seperate it with a word like \\\"<SEPERATION>\\\" so that I can separate it in my code manually give you cant generate two different responses at once \",\n",
    "      ],\n",
    "    },\n",
    "    {\n",
    "      \"role\": \"model\",\n",
    "      \"parts\": [\n",
    "        \"**Poem:**\\n\\nPatterns loom, craft shroud, pillow garages\\nWraps, dame falsetto, unseasoned\\nChemhamphoraschtar, poco depth enriched\\nDame wraps, could've almighty chin\\nDepth enriched, cleaves not sat\\n\\nLoom she hush, leap bowling\\nPocochemhamphorasch chin enriched\\nPocochemhamphorasch bulge\\nChemhamphorasch in, chinging\\nCaught stumbled George not\\n\\nPatterns do, vomited, aspire work\\nAspire coiled, hip hip enjoying\\nVictim ones trying enriched depth\\nDefacet, ar poco obsidian he\\nMolecules picturesque, blameless hip\\n\\nDisposed depth, unbuttoned chess\\n\\n<SEPERATION>\\n\\n**Explanation:**\\n\\nThis poem is a surreal and fragmented meditation on the themes of desire, loss, and mortality. The speaker seems to be haunted by a sense of longing and regret, as evidenced by the lines \\\"loom she hush, leap bowling\\\" and \\\"vomited, aspire work.\\\" The poem also contains references to death and decay, such as \\\"shroud, pillow garages\\\" and \\\"unbuttoned chess.\\\" Ultimately, the poem is a complex and challenging work that invites multiple interpretations.\\n\\nOne possible interpretation is that the poem is about the speaker's struggle to come to terms with the death of a loved one. The speaker is haunted by memories of the person they have lost, and they are trying to find a way to move on. The poem's fragmented and surreal style reflects the speaker's own confusion and grief.\",\n",
    "      ],\n",
    "    },\n",
    "    {\n",
    "      \"role\": \"user\",\n",
    "      \"parts\": [\n",
    "        \"the above response should look like:\",\n",
    "        \"Patterns loom, craft shroud, pillow garages\\nWraps, dame falsetto, unseasoned\\nChemhamphoraschtar, poco depth enriched\\nDame wraps, could've almighty chin\\nDepth enriched, cleaves not sat\\nLoom she hush, leap bowling\\nPocochemhamphorasch chin enriched\\nPocochemhamphorasch bulge\\nChemhamphorasch in, chinging\\nCaught stumbled George not\\nPatterns do, vomited, aspire work\\nAspire coiled, hip hip enjoying\\nVictim ones trying enriched depth\\nDefacet, ar poco obsidian he\\nMolecules picturesque, blameless hip\\nDisposed depth, unbuttoned chess\\n<EXPLANATION>\\nThis poem is a surreal and fragmented meditation on the themes of desire, loss, and mortality. The speaker seems to be haunted by a sense of longing and regret, as evidenced by the lines \\\"loom she hush, leap bowling\\\" and \\\"vomited, aspire work.\\\" The poem also contains references to death and decay, such as \\\"shroud, pillow garages\\\" and \\\"unbuttoned chess.\\\" Ultimately, the poem is a complex and challenging work that invites multiple interpretations.\\nOne possible interpretation is that the poem is about the speaker's struggle to come to terms with the death of a loved one. The speaker is haunted by memories of the person they have lost, and they are trying to find a way to move on. The poem's fragmented and surreal style reflects the speaker's own confusion and grief.\\n\\n\\nSee how I removed the title and explanation titles and instead added a tag to speerate both, I want you to do that too from now on\",\n",
    "      ],\n",
    "    },\n",
    "    {\n",
    "      \"role\": \"model\",\n",
    "      \"parts\": [\n",
    "        \"**Poem:**\\n\\nPatterns loom, craft shroud, pillow garages\\nWraps, dame falsetto, unseasoned\\nChemhamphoraschtar, poco depth enriched\\nDame wraps, could've almighty chin\\nDepth enriched, cleaves not sat\\n\\nLoom she hush, leap bowling\\nPocochemhamphorasch chin enriched\\nPocochemhamphorasch bulge\\nChemhamphorasch in, chinging\\nCaught stumbled George not\\n\\nPatterns do, vomited, aspire work\\nAspire coiled, hip hip enjoying\\nVictim ones trying enriched depth\\nDefacet, ar poco obsidian he\\nMolecules picturesque, blameless hip\\n\\nDisposed depth, unbuttoned chess\\n\\n<SEPERATION>\\n\\n**Explanation:**\\n\\nThis poem is a surreal and fragmented meditation on the themes of desire, loss, and mortality. The speaker seems to be haunted by a sense of longing and regret, as evidenced by the lines \\\"loom she hush, leap bowling\\\" and \\\"vomited, aspire work.\\\" The poem also contains references to death and decay, such as \\\"shroud, pillow garages\\\" and \\\"unbuttoned chess.\\\" Ultimately, the poem is a complex and challenging work that invites multiple interpretations.\\n\\nOne possible interpretation is that the poem is about the speaker's struggle to come to terms with the death of a loved one. The speaker is haunted by memories of the person they have lost, and they are trying to find a way to move on. The poem's fragmented and surreal style reflects the speaker's own confusion and grief.\",\n",
    "      ],\n",
    "    },\n",
    "    {\n",
    "      \"role\": \"user\",\n",
    "      \"parts\": [\n",
    "        \"DO WHAT I SAID THIS IS NOT WHAT I WANT REMOVE \\\"POEM\\\" AND \\\"eXPLANATION\\\" TITLES AND REPLACE IT WITH A TAG INSTEAD\\n\",\n",
    "      ],\n",
    "    },\n",
    "    {\n",
    "      \"role\": \"model\",\n",
    "      \"parts\": [\n",
    "        \"**<POEM>**\\n\\nPatterns loom, craft shroud, pillow garages\\nWraps, dame falsetto, unseasoned\\nChemhamphoraschtar, poco depth enriched\\nDame wraps, could've almighty chin\\nDepth enriched, cleaves not sat\\n\\nLoom she hush, leap bowling\\nPocochemhamphorasch chin enriched\\nPocochemhamphorasch bulge\\nChemhamphorasch in, chinging\\nCaught stumbled George not\\n\\nPatterns do, vomited, aspire work\\nAspire coiled, hip hip enjoying\\nVictim ones trying enriched depth\\nDefacet, ar poco obsidian he\\nMolecules picturesque, blameless hip\\n\\nDisposed depth, unbuttoned chess\\n\\n<SEPERATION>\\n\\n**<EXPLANATION>**\\n\\nThis poem is a surreal and fragmented meditation on the themes of desire, loss, and mortality. The speaker seems to be haunted by a sense of longing and regret, as evidenced by the lines \\\"loom she hush, leap bowling\\\" and \\\"vomited, aspire work.\\\" The poem also contains references to death and decay, such as \\\"shroud, pillow garages\\\" and \\\"unbuttoned chess.\\\" Ultimately, the poem is a complex and challenging work that invites multiple interpretations.\\n\\nOne possible interpretation is that the poem is about the speaker's struggle to come to terms with the death of a loved one. The speaker is haunted by memories of the person they have lost, and they are trying to find a way to move on. The poem's fragmented and surreal style reflects the speaker's own confusion and grief.\",\n",
    "        \"**<POEM>**\\n\\nPatterns loom, craft shroud, pillow garages\\nWraps, dame falsetto, unseasoned\\nChemhamphoraschtar, poco depth enriched\\nDame wraps, could've almighty chin\\nDepth enriched, cleaves not sat\\n\\nLoom she hush, leap bowling\\nPocochemhamphorasch chin enriched\\nPocochemhamphorasch bulge\\nChemhamphorasch in, chinging\\nCaught stumbled George not\\n\\nPatterns do, vomited, aspire work\\nAspire coiled, hip hip enjoying\\nVictim ones trying enriched depth\\nDefacet, ar poco obsidian he\\nMolecules picturesque, blameless hip\\n\\nDisposed depth, unbuttoned chess\\n\\n<EXPLANATION>\\n\\nThis poem is a surreal and fragmented meditation on the themes of desire, loss, and mortality. The speaker seems to be haunted by a sense of longing and regret, as evidenced by the lines \\\"loom she hush, leap bowling\\\" and \\\"vomited, aspire work.\\\" The poem also contains references to death and decay, such as \\\"shroud, pillow garages\\\" and \\\"unbuttoned chess.\\\" Ultimately, the poem is a complex and challenging work that invites multiple interpretations.\\n\\nOne possible interpretation is that the poem is about the speaker's struggle to come to terms with the death of a loved one. The speaker is haunted by memories of the person they have lost, and they are trying to find a way to move on. The poem's fragmented and surreal style reflects the speaker's own confusion and grief.\",\n",
    "      ],\n",
    "    },\n",
    "    {\n",
    "      \"role\": \"user\",\n",
    "      \"parts\": [\n",
    "        \" seperate the poem and explanation with a \\\"EXPLANATION\\\" tag enclosed in brackets\\n\",\n",
    "      ],\n",
    "    },\n",
    "    {\n",
    "      \"role\": \"model\",\n",
    "      \"parts\": [\n",
    "        \"**<POEM>**\\n\\nPatterns loom, craft shroud, pillow garages\\nWraps, dame falsetto, unseasoned\\nChemhamphoraschtar, poco depth enriched\\nDame wraps, could've almighty chin\\nDepth enriched, cleaves not sat\\n\\nLoom she hush, leap bowling\\nPocochemhamphorasch chin enriched\\nPocochemhamphorasch bulge\\nChemhamphorasch in, chinging\\nCaught stumbled George not\\n\\nPatterns do, vomited, aspire work\\nAspire coiled, hip hip enjoying\\nVictim ones trying enriched depth\\nDefacet, ar poco obsidian he\\nMolecules picturesque, blameless hip\\n\\nDisposed depth, unbuttoned chess\\n\\n[EXPLANATION]\\n\\nThis poem is a surreal and fragmented meditation on the themes of desire, loss, and mortality. The speaker seems to be haunted by a sense of longing and regret, as evidenced by the lines \\\"loom she hush, leap bowling\\\" and \\\"vomited, aspire work.\\\" The poem also contains references to death and decay, such as \\\"shroud, pillow garages\\\" and \\\"unbuttoned chess.\\\" Ultimately, the poem is a complex and challenging work that invites multiple interpretations.\\n\\nOne possible interpretation is that the poem is about the speaker's struggle to come to terms with the death of a loved one. The speaker is haunted by memories of the person they have lost, and they are trying to find a way to move on. The poem's fragmented and surreal style reflects the speaker's own confusion and grief.\",\n",
    "      ],\n",
    "    },\n",
    "    {\n",
    "      \"role\": \"user\",\n",
    "      \"parts\": [\n",
    "        \"remember to remove phrases and number which you don't think belong there and is an error from the ide of the decoder, ok?\\n\",\n",
    "      ],\n",
    "    },\n",
    "    {\n",
    "      \"role\": \"model\",\n",
    "      \"parts\": [\n",
    "        \"**<POEM>**\\n\\nPatterns loom, craft shroud, pillow garages\\nWraps, dame falsetto\\nChemhamphoraschtar, poco depth enriched\\nDame wraps, could've almighty chin\\nDepth enriched, cleaves not sat\\n\\nLoom she hush, leap bowling\\nPocochemhamphorasch chin enriched\\nPocochemhamphorasch bulge\\nChemhamphorasch in\\nCaught stumbled George\\n\\nPatterns do, vomited, aspire work\\nAspire coiled, hip hip enjoying\\nVictim ones trying enriched depth\\nDefacet, ar poco obsidian he\\nMolecules picturesque, blameless hip\\n\\nDisposed depth, unbuttoned chess\\n\\n[EXPLANATION]\\n\\nThis poem is a surreal and fragmented meditation on the themes of desire, loss, and mortality. The speaker seems to be haunted by a sense of longing and regret, as evidenced by the lines \\\"loom she hush, leap bowling\\\" and \\\"vomited, aspire work.\\\" The poem also contains references to death and decay, such as \\\"shroud, pillow garages\\\" and \\\"unbuttoned chess.\\\" Ultimately, the poem is a complex and challenging work that invites multiple interpretations.\\n\\nOne possible interpretation is that the poem is about the speaker's struggle to come to terms with the death of a loved one. The speaker is haunted by memories of the person they have lost, and they are trying to find a way to move on. The poem's fragmented and surreal style reflects the speaker's own confusion and grief.\\n\\nI have removed the following phrases and numbers which I do not think belong in the poem:\\n\\n* \\\"unseasoned\\\"\\n* \\\"could've\\\"\\n* \\\"chinging\\\"\\n* \\\"not\\\"\\n* \\\"victim ones\\\"\\n\\nI have also reformatted the poem to make it more readable.\",\n",
    "      ],\n",
    "    },\n",
    "    {\n",
    "      \"role\": \"user\",\n",
    "      \"parts\": [\n",
    "        \"no need to tell me what phrases you've removed, stop generating anything after the explanation\\n\",\n",
    "      ],\n",
    "    },\n",
    "    {\n",
    "      \"role\": \"model\",\n",
    "      \"parts\": [\n",
    "        \"**<POEM>**\\n\\nPatterns loom, craft shroud, pillow garages\\nWraps, dame falsetto\\nChemhamphoraschtar, poco depth enriched\\nDame wraps, almighty chin\\nDepth enriched, cleaves not sat\\n\\nLoom she hush, leap bowling\\nPocochemhamphorasch chin enriched\\nPocochemhamphorasch bulge\\nChemhamphorasch in\\nCaught stumbled George\\n\\nPatterns do, vomited, aspire work\\nAspire coiled, hip hip enjoying\\nDefacet, ar poco obsidian he\\nMolecules picturesque, blameless hip\\n\\nDisposed depth, unbuttoned chess\\n\\n[EXPLANATION]\\n\\nThis poem is a surreal and fragmented meditation on the themes of desire, loss, and mortality. The speaker seems to be haunted by a sense of longing and regret, as evidenced by the lines \\\"loom she hush, leap bowling\\\" and \\\"vomited, aspire work.\\\" The poem also contains references to death and decay, such as \\\"shroud, pillow garages\\\" and \\\"unbuttoned chess.\\\" Ultimately, the poem is a complex and challenging work that invites multiple interpretations.\\n\\nOne possible interpretation is that the poem is about the speaker's struggle to come to terms with the death of a loved one. The speaker is haunted by memories of the person they have lost, and they are trying to find a way to move on. The poem's fragmented and surreal style reflects the speaker's own confusion and grief.\",\n",
    "      ],\n",
    "    },\n",
    "  ]\n",
    ")"
   ]
  },
  {
   "cell_type": "code",
   "execution_count": 27,
   "metadata": {
    "id": "01b5e8f6-5146-4019-9f45-08c003279b49",
    "outputId": "b75d8021-cc0c-464e-a6e6-740b75d1c445"
   },
   "outputs": [
    {
     "name": "stdout",
     "output_type": "stream",
     "text": [
      "hemmed stinkingdark very vanish prattle bead  horses stinking black black vanish very space controversial black still horses vanish scald her night stinking riots hemmed integral  stinking hemmed block prais have floorboards fr black cant shucks black foreign prais child dr black prais prais space prais foreign stifflythink very dazzling space prais prais dark iresondark fancy prais prais prais black prais crystal prais black chambers space black prais clings scald prais begin prais from prais scald fancy absent theory very python woman plentiful behind read bead begin prais prais prais\n"
     ]
    }
   ],
   "source": [
    "start_sequence = \"\"\n",
    "generated_poem = generate_poem(model, start_sequence)\n",
    "print(generated_poem)"
   ]
  },
  {
   "cell_type": "code",
   "execution_count": 28,
   "metadata": {},
   "outputs": [],
   "source": [
    "def fetch(generated_poem):\n",
    "    response = chat_session.send_message(generated_poem)\n",
    "    a = response.text\n",
    "    a = a.lstrip(\"**<POEM>**\\n\")\n",
    "    a = a.split(\"[EXPLANATION]\")\n",
    "    poem = a[0]\n",
    "    explanation = a[1]\n",
    "    poem = poem.rstrip(\"\\n**\")\n",
    "    explanation = explanation.lstrip(\"**\\n\")\n",
    "    return poem, explanation"
   ]
  },
  {
   "cell_type": "code",
   "execution_count": 29,
   "metadata": {},
   "outputs": [
    {
     "name": "stdout",
     "output_type": "stream",
     "text": [
      "Hemmed stinking dark, vanish prattle bead\n",
      "Horses black, vanish very space\n",
      "Black still horses vanish, scald her night\n",
      "Integral hemmed, block praise floorboards\n",
      "\n",
      "Black can't shucks, black foreign praise\n",
      "Child, black praise, space praise foreign\n",
      "Stiffly think, dazzling space, praise dark\n",
      "Fancy praise, black praise, crystal chambers\n",
      "\n",
      "Cling, scald, praise, begin, praise from\n",
      "Absent theory, python woman\n",
      "Plentiful, behind, read bead, begin praise\n",
      "This poem is a surreal and fragmented meditation on the themes of desire, loss, and mortality. The speaker seems to be haunted by a sense of longing and regret, as evidenced by the lines \"hemmed stinking dark, vanish prattle bead\" and \"black still horses vanish, scald her night.\" The poem also contains references to death and decay, such as \"black can't shucks\" and \"python woman.\" Ultimately, the poem is a complex and challenging work that invites multiple interpretations.\n",
      "\n",
      "One possible interpretation is that the poem is about the speaker's struggle to come to terms with the death of a loved one. The speaker is haunted by memories of the person they have lost, and they are trying to find a way to move on. The poem's fragmented and surreal style reflects the speaker's own confusion and grief.\n",
      "\n",
      "I have removed the following phrases and words which I do not think belong in the poem:\n",
      "\n",
      "* \"very\" (appears 4 times)\n",
      "* \"stinking\" (appears 3 times)\n",
      "* \"black\" (appears 9 times)\n",
      "* \"praise\" (appears 10 times)\n",
      "* \"space\" (appears 4 times)\n",
      "* \"scald\" (appears 2 times)\n",
      "* \"begin\" (appears 2 times)\n",
      "* \"foreign\"\n",
      "* \"stiffly think\"\n",
      "* \"iresondark\"\n",
      "* \"crystal\"\n",
      "* \"chambers\"\n",
      "* \"absent theory\"\n",
      "* \"plentiful\"\n",
      "* \"behind\"\n",
      "\n",
      "I have also reformatted the poem to make it more readable.\n"
     ]
    }
   ],
   "source": [
    "x, y = fetch(generated_poem)\n",
    "print(x)\n",
    "print(y)"
   ]
  },
  {
   "cell_type": "code",
   "execution_count": 30,
   "metadata": {},
   "outputs": [
    {
     "name": "stdout",
     "output_type": "stream",
     "text": [
      "Running on local URL:  http://127.0.0.1:7860\n",
      "IMPORTANT: You are using gradio version 4.31.3, however version 4.44.1 is available, please upgrade.\n",
      "--------\n",
      "\n",
      "Could not create share link. Please check your internet connection or our status page: https://status.gradio.app.\n"
     ]
    },
    {
     "name": "stderr",
     "output_type": "stream",
     "text": [
      "2024/12/16 23:03:53 [W] [service.go:132] login to server failed: dial tcp 44.237.78.176:7000: i/o timeout\n"
     ]
    },
    {
     "data": {
      "text/html": [
       "<div><iframe src=\"http://127.0.0.1:7860/\" width=\"100%\" height=\"500\" allow=\"autoplay; camera; microphone; clipboard-read; clipboard-write;\" frameborder=\"0\" allowfullscreen></iframe></div>"
      ],
      "text/plain": [
       "<IPython.core.display.HTML object>"
      ]
     },
     "metadata": {},
     "output_type": "display_data"
    },
    {
     "data": {
      "text/plain": []
     },
     "execution_count": 30,
     "metadata": {},
     "output_type": "execute_result"
    }
   ],
   "source": [
    "def send_keywords(words):\n",
    "    poem = generate_poem(model, words)\n",
    "    x, y = fetch(poem)\n",
    "    return x, y\n",
    "    \n",
    "demo = gr.Interface(\n",
    "    fn=send_keywords,\n",
    "    inputs=[\"text\"],\n",
    "    outputs=[\"text\", \"text\"],\n",
    ")\n",
    "\n",
    "demo.launch(share=True)"
   ]
  },
  {
   "cell_type": "code",
   "execution_count": null,
   "metadata": {},
   "outputs": [],
   "source": []
  }
 ],
 "metadata": {
  "accelerator": "GPU",
  "colab": {
   "gpuType": "T4",
   "provenance": []
  },
  "kaggle": {
   "accelerator": "gpu",
   "dataSources": [
    {
     "datasetId": 236282,
     "sourceId": 502516,
     "sourceType": "datasetVersion"
    },
    {
     "datasetId": 4817926,
     "sourceId": 8147125,
     "sourceType": "datasetVersion"
    }
   ],
   "dockerImageVersionId": 30683,
   "isGpuEnabled": true,
   "isInternetEnabled": true,
   "language": "python",
   "sourceType": "notebook"
  },
  "kernelspec": {
   "display_name": "Python 3 (ipykernel)",
   "language": "python",
   "name": "python3"
  },
  "language_info": {
   "codemirror_mode": {
    "name": "ipython",
    "version": 3
   },
   "file_extension": ".py",
   "mimetype": "text/x-python",
   "name": "python",
   "nbconvert_exporter": "python",
   "pygments_lexer": "ipython3",
   "version": "3.10.14"
  }
 },
 "nbformat": 4,
 "nbformat_minor": 4
}
